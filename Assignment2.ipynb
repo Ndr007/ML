{
 "cells": [
  {
   "cell_type": "markdown",
   "metadata": {},
   "source": [
    "# 1.1\n",
    "Write a Python Program to implement your own myreduce() function which works exactly like\n",
    "Python's built-in function reduce()\n"
   ]
  },
  {
   "cell_type": "code",
   "execution_count": 77,
   "metadata": {},
   "outputs": [],
   "source": [
    "def myreduce(lam_func,lst):\n",
    "    \n",
    "    for i in range(len(lst)):\n",
    "        if i==0: \n",
    "            a=lst[0]  \n",
    "            b=lst[1]                       #first two terms manually we need to do\n",
    "            c=lam_func(a,b)\n",
    "            \n",
    "        elif i>1:                          #since we have alraedy done with first two terms, hence skipping those terms\n",
    "            a=c         \n",
    "            b=lst[i]\n",
    "            c=lam_func(a,b)\n",
    "    return c"
   ]
  },
  {
   "cell_type": "code",
   "execution_count": 83,
   "metadata": {},
   "outputs": [
    {
     "name": "stdout",
     "output_type": "stream",
     "text": [
      "122\n"
     ]
    }
   ],
   "source": [
    "max_find = lambda a,b: a if (a > b) else b #lambda function\n",
    "lst =[58,11,122]                           #list\n",
    "\n",
    "\n",
    "\n",
    "result=myreduce(max_find,lst)              #passing the lambda function & list\n",
    "\n",
    "\n",
    "\n",
    "print(result)"
   ]
  },
  {
   "cell_type": "markdown",
   "metadata": {},
   "source": [
    "# 1.2\n",
    "Write a Python program to implement your own myfilter() function which works exactly like\n",
    "Python's built-in function filter()\n"
   ]
  },
  {
   "cell_type": "code",
   "execution_count": 96,
   "metadata": {},
   "outputs": [],
   "source": [
    "def myfilter(func,lst):\n",
    "    lst1=[]                         #declaring empty list\n",
    "    for i in range(len(lst)):\n",
    "        \n",
    "        if func(lst[i])==True:      #calling the function\n",
    "            lst1.append(lst[i])     #if the function returns true appending with the list\n",
    "    \n",
    "    return lst1"
   ]
  },
  {
   "cell_type": "code",
   "execution_count": 98,
   "metadata": {},
   "outputs": [
    {
     "data": {
      "text/plain": [
       "[2, 4, 6, 8]"
      ]
     },
     "execution_count": 98,
     "metadata": {},
     "output_type": "execute_result"
    }
   ],
   "source": [
    "def even_check(num):                #function that returns true if satisfies the condition\n",
    "    if num%2 ==0:\n",
    "        return True\n",
    "    \n",
    "lst =[1,2,3,4,5,6,7,8]              #list\n",
    "\n",
    "myfilter(even_check,lst)            #calling myfilter function"
   ]
  },
  {
   "cell_type": "code",
   "execution_count": null,
   "metadata": {},
   "outputs": [],
   "source": []
  }
 ],
 "metadata": {
  "kernelspec": {
   "display_name": "Python 3",
   "language": "python",
   "name": "python3"
  },
  "language_info": {
   "codemirror_mode": {
    "name": "ipython",
    "version": 3
   },
   "file_extension": ".py",
   "mimetype": "text/x-python",
   "name": "python",
   "nbconvert_exporter": "python",
   "pygments_lexer": "ipython3",
   "version": "3.7.1"
  }
 },
 "nbformat": 4,
 "nbformat_minor": 2
}
