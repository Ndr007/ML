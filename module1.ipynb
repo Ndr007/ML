{
 "cells": [
  {
   "cell_type": "code",
   "execution_count": 5,
   "metadata": {},
   "outputs": [],
   "source": [
    "def high(x):\n",
    "    return max(x) \n",
    "\n",
    "\"\"\"    def low(x):\n",
    "    min(x)\n",
    "    return x \n",
    "\n",
    "def sortasc(x):\n",
    "    sorted(x)\n",
    "    \n",
    "def sortdesc(x):\n",
    "    sorted(x,reverse=True)\n",
    "  \"\"\"\n"
   ]
  },
  {
   "cell_type": "code",
   "execution_count": null,
   "metadata": {},
   "outputs": [],
   "source": []
  }
 ],
 "metadata": {
  "kernelspec": {
   "display_name": "Python 3",
   "language": "python",
   "name": "python3"
  },
  "language_info": {
   "codemirror_mode": {
    "name": "ipython",
    "version": 3
   },
   "file_extension": ".py",
   "mimetype": "text/x-python",
   "name": "python",
   "nbconvert_exporter": "python",
   "pygments_lexer": "ipython3",
   "version": "3.7.3"
  }
 },
 "nbformat": 4,
 "nbformat_minor": 2
}
